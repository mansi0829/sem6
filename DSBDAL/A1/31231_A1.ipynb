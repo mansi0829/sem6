{
 "cells": [
  {
   "cell_type": "code",
   "execution_count": 79,
   "metadata": {},
   "outputs": [],
   "source": [
    "import pandas as pd\n",
    "import numpy as np\n",
    "from sklearn import preprocessing\n",
    "import matplotlib\n",
    "import matplotlib.pyplot as plt\n"
   ]
  },
  {
   "cell_type": "code",
   "execution_count": 13,
   "metadata": {},
   "outputs": [],
   "source": [
    "df = pd.read_csv(\"/home/pict/Downloads/sem6-main/DSBDAL/A1/Global_annual_mean_temp.csv\")"
   ]
  },
  {
   "cell_type": "code",
   "execution_count": 14,
   "metadata": {
    "scrolled": true
   },
   "outputs": [
    {
     "name": "stdout",
     "output_type": "stream",
     "text": [
      "    Year  No_Smoothing  Lowess(5) Status\n",
      "0   1880         -0.17      -0.10   good\n",
      "1   1881         -0.09        NaN   bad \n",
      "2   1882         -0.11        NaN   bad \n",
      "3   1883           NaN      -0.20   bad \n",
      "4   1884         -0.28      -0.24   bad \n",
      "..   ...           ...        ...    ...\n",
      "94  1974         -0.07       0.01   good\n",
      "95  1975         -0.01       0.02   good\n",
      "96  1976         -0.10       0.04   good\n",
      "97  1977          0.18       0.07   good\n",
      "98  1978          0.07       0.12   good\n",
      "\n",
      "[99 rows x 4 columns]\n"
     ]
    }
   ],
   "source": [
    "print(df)"
   ]
  },
  {
   "cell_type": "code",
   "execution_count": 15,
   "metadata": {},
   "outputs": [
    {
     "name": "stdout",
     "output_type": "stream",
     "text": [
      "   Year  No_Smoothing  Lowess(5) Status\n",
      "0  1880         -0.17      -0.10   good\n",
      "1  1881         -0.09        NaN   bad \n",
      "2  1882         -0.11        NaN   bad \n",
      "3  1883           NaN      -0.20   bad \n",
      "4  1884         -0.28      -0.24   bad \n"
     ]
    }
   ],
   "source": [
    "print(df.head())"
   ]
  },
  {
   "cell_type": "code",
   "execution_count": 16,
   "metadata": {},
   "outputs": [
    {
     "name": "stdout",
     "output_type": "stream",
     "text": [
      "Empty DataFrame\n",
      "Columns: [Year, No_Smoothing, Lowess(5), Status]\n",
      "Index: []\n"
     ]
    }
   ],
   "source": [
    "print(df.head(0))"
   ]
  },
  {
   "cell_type": "code",
   "execution_count": 17,
   "metadata": {},
   "outputs": [
    {
     "name": "stdout",
     "output_type": "stream",
     "text": [
      "   Year  No_Smoothing  Lowess(5) Status\n",
      "0  1880         -0.17       -0.1   good\n",
      "1  1881         -0.09        NaN   bad \n",
      "2  1882         -0.11        NaN   bad \n"
     ]
    }
   ],
   "source": [
    "print(df.head(3))"
   ]
  },
  {
   "cell_type": "code",
   "execution_count": 18,
   "metadata": {},
   "outputs": [
    {
     "name": "stdout",
     "output_type": "stream",
     "text": [
      "    Year  No_Smoothing  Lowess(5) Status\n",
      "0   1880         -0.17      -0.10   good\n",
      "1   1881         -0.09        NaN   bad \n",
      "2   1882         -0.11        NaN   bad \n",
      "3   1883           NaN      -0.20   bad \n",
      "4   1884         -0.28      -0.24   bad \n",
      "..   ...           ...        ...    ...\n",
      "91  1971         -0.08       0.00   good\n",
      "92  1972          0.01       0.00   good\n",
      "93  1973          0.16       0.00   good\n",
      "94  1974         -0.07       0.01   good\n",
      "95  1975         -0.01       0.02   good\n",
      "\n",
      "[96 rows x 4 columns]\n"
     ]
    }
   ],
   "source": [
    "print(df.head(-3))"
   ]
  },
  {
   "cell_type": "code",
   "execution_count": 19,
   "metadata": {},
   "outputs": [
    {
     "name": "stdout",
     "output_type": "stream",
     "text": [
      "    Year  No_Smoothing  Lowess(5) Status\n",
      "94  1974         -0.07       0.01   good\n",
      "95  1975         -0.01       0.02   good\n",
      "96  1976         -0.10       0.04   good\n",
      "97  1977          0.18       0.07   good\n",
      "98  1978          0.07       0.12   good\n"
     ]
    }
   ],
   "source": [
    "print(df.tail())"
   ]
  },
  {
   "cell_type": "code",
   "execution_count": 20,
   "metadata": {},
   "outputs": [
    {
     "name": "stdout",
     "output_type": "stream",
     "text": [
      "Empty DataFrame\n",
      "Columns: [Year, No_Smoothing, Lowess(5), Status]\n",
      "Index: []\n"
     ]
    }
   ],
   "source": [
    "print(df.tail(0))"
   ]
  },
  {
   "cell_type": "code",
   "execution_count": 21,
   "metadata": {},
   "outputs": [
    {
     "name": "stdout",
     "output_type": "stream",
     "text": [
      "    Year  No_Smoothing  Lowess(5) Status\n",
      "96  1976         -0.10       0.04   good\n",
      "97  1977          0.18       0.07   good\n",
      "98  1978          0.07       0.12   good\n"
     ]
    }
   ],
   "source": [
    "print(df.tail(3))"
   ]
  },
  {
   "cell_type": "code",
   "execution_count": 22,
   "metadata": {},
   "outputs": [
    {
     "name": "stdout",
     "output_type": "stream",
     "text": [
      "    Year  No_Smoothing  Lowess(5) Status\n",
      "3   1883           NaN      -0.20   bad \n",
      "4   1884         -0.28      -0.24   bad \n",
      "5   1885         -0.33      -0.26   bad \n",
      "6   1886         -0.31      -0.27   good\n",
      "7   1887         -0.36      -0.27   good\n",
      "..   ...           ...        ...    ...\n",
      "94  1974         -0.07       0.01   good\n",
      "95  1975         -0.01       0.02   good\n",
      "96  1976         -0.10       0.04   good\n",
      "97  1977          0.18       0.07   good\n",
      "98  1978          0.07       0.12   good\n",
      "\n",
      "[96 rows x 4 columns]\n"
     ]
    }
   ],
   "source": [
    "print(df.tail(-3))"
   ]
  },
  {
   "cell_type": "code",
   "execution_count": 23,
   "metadata": {},
   "outputs": [
    {
     "name": "stdout",
     "output_type": "stream",
     "text": [
      "<class 'pandas.core.frame.DataFrame'>\n",
      "RangeIndex: 99 entries, 0 to 98\n",
      "Data columns (total 4 columns):\n",
      " #   Column        Non-Null Count  Dtype  \n",
      "---  ------        --------------  -----  \n",
      " 0   Year          99 non-null     int64  \n",
      " 1   No_Smoothing  97 non-null     float64\n",
      " 2   Lowess(5)     95 non-null     float64\n",
      " 3   Status        99 non-null     object \n",
      "dtypes: float64(2), int64(1), object(1)\n",
      "memory usage: 3.2+ KB\n",
      "None\n"
     ]
    }
   ],
   "source": [
    "print(df.info())"
   ]
  },
  {
   "cell_type": "code",
   "execution_count": 24,
   "metadata": {},
   "outputs": [
    {
     "name": "stdout",
     "output_type": "stream",
     "text": [
      "              Year  No_Smoothing  Lowess(5)\n",
      "count    99.000000     97.000000  95.000000\n",
      "mean   1929.000000     -0.143918  -0.145263\n",
      "std      28.722813      0.161848   0.140847\n",
      "min    1880.000000     -0.480000  -0.410000\n",
      "25%    1904.500000     -0.270000  -0.260000\n",
      "50%    1929.000000     -0.140000  -0.170000\n",
      "75%    1953.500000     -0.020000  -0.025000\n",
      "max    1978.000000      0.210000   0.120000\n"
     ]
    }
   ],
   "source": [
    "print(df.describe())"
   ]
  },
  {
   "cell_type": "code",
   "execution_count": 25,
   "metadata": {},
   "outputs": [
    {
     "name": "stdout",
     "output_type": "stream",
     "text": [
      "     Year  No_Smoothing  Lowess(5)  Status\n",
      "0   False         False      False   False\n",
      "1   False         False       True   False\n",
      "2   False         False       True   False\n",
      "3   False          True      False   False\n",
      "4   False         False      False   False\n",
      "..    ...           ...        ...     ...\n",
      "94  False         False      False   False\n",
      "95  False         False      False   False\n",
      "96  False         False      False   False\n",
      "97  False         False      False   False\n",
      "98  False         False      False   False\n",
      "\n",
      "[99 rows x 4 columns]\n"
     ]
    }
   ],
   "source": [
    "print(df.isnull())"
   ]
  },
  {
   "cell_type": "code",
   "execution_count": 26,
   "metadata": {},
   "outputs": [
    {
     "name": "stdout",
     "output_type": "stream",
     "text": [
      "     Year  No_Smoothing  Lowess(5)  Status\n",
      "0   False         False      False   False\n",
      "1   False         False       True   False\n",
      "2   False         False       True   False\n",
      "3   False          True      False   False\n",
      "4   False         False      False   False\n",
      "..    ...           ...        ...     ...\n",
      "94  False         False      False   False\n",
      "95  False         False      False   False\n",
      "96  False         False      False   False\n",
      "97  False         False      False   False\n",
      "98  False         False      False   False\n",
      "\n",
      "[99 rows x 4 columns]\n"
     ]
    }
   ],
   "source": [
    "print(df.isnull())#changes made in csv"
   ]
  },
  {
   "cell_type": "code",
   "execution_count": 27,
   "metadata": {},
   "outputs": [
    {
     "name": "stdout",
     "output_type": "stream",
     "text": [
      "Year            99\n",
      "No_Smoothing    99\n",
      "Lowess(5)       99\n",
      "Status          99\n",
      "dtype: int64\n"
     ]
    }
   ],
   "source": [
    "print(df.isnull().count())#changes made in csv"
   ]
  },
  {
   "cell_type": "code",
   "execution_count": 28,
   "metadata": {},
   "outputs": [
    {
     "name": "stdout",
     "output_type": "stream",
     "text": [
      "    Year  No_Smoothing  Lowess(5) Status\n",
      "0   1880         -0.17      -0.10   good\n",
      "4   1884         -0.28      -0.24   bad \n",
      "5   1885         -0.33      -0.26   bad \n",
      "6   1886         -0.31      -0.27   good\n",
      "7   1887         -0.36      -0.27   good\n",
      "..   ...           ...        ...    ...\n",
      "94  1974         -0.07       0.01   good\n",
      "95  1975         -0.01       0.02   good\n",
      "96  1976         -0.10       0.04   good\n",
      "97  1977          0.18       0.07   good\n",
      "98  1978          0.07       0.12   good\n",
      "\n",
      "[93 rows x 4 columns]\n"
     ]
    }
   ],
   "source": [
    "print(df.dropna())#changes made in csv"
   ]
  },
  {
   "cell_type": "code",
   "execution_count": 29,
   "metadata": {},
   "outputs": [
    {
     "name": "stdout",
     "output_type": "stream",
     "text": [
      "    Year  No_Smoothing  Lowess(5) Status\n",
      "0   1880         -0.17      -0.10   good\n",
      "1   1881         -0.09        NaN   bad \n",
      "2   1882         -0.11        NaN   bad \n",
      "3   1883           NaN      -0.20   bad \n",
      "4   1884         -0.28      -0.24   bad \n",
      "..   ...           ...        ...    ...\n",
      "94  1974         -0.07       0.01   good\n",
      "95  1975         -0.01       0.02   good\n",
      "96  1976         -0.10       0.04   good\n",
      "97  1977          0.18       0.07   good\n",
      "98  1978          0.07       0.12   good\n",
      "\n",
      "[99 rows x 4 columns]\n"
     ]
    }
   ],
   "source": [
    "print(df)"
   ]
  },
  {
   "cell_type": "code",
   "execution_count": 30,
   "metadata": {},
   "outputs": [
    {
     "data": {
      "text/plain": [
       "Year            0\n",
       "No_Smoothing    2\n",
       "Lowess(5)       4\n",
       "Status          0\n",
       "dtype: int64"
      ]
     },
     "execution_count": 30,
     "metadata": {},
     "output_type": "execute_result"
    }
   ],
   "source": [
    "df.isnull().sum()"
   ]
  },
  {
   "cell_type": "code",
   "execution_count": 31,
   "metadata": {},
   "outputs": [],
   "source": [
    "df.dropna( inplace = True )"
   ]
  },
  {
   "cell_type": "code",
   "execution_count": 32,
   "metadata": {},
   "outputs": [
    {
     "name": "stdout",
     "output_type": "stream",
     "text": [
      "    Year  No_Smoothing  Lowess(5) Status\n",
      "0   1880         -0.17      -0.10   good\n",
      "4   1884         -0.28      -0.24   bad \n",
      "5   1885         -0.33      -0.26   bad \n",
      "6   1886         -0.31      -0.27   good\n",
      "7   1887         -0.36      -0.27   good\n",
      "..   ...           ...        ...    ...\n",
      "94  1974         -0.07       0.01   good\n",
      "95  1975         -0.01       0.02   good\n",
      "96  1976         -0.10       0.04   good\n",
      "97  1977          0.18       0.07   good\n",
      "98  1978          0.07       0.12   good\n",
      "\n",
      "[93 rows x 4 columns]\n"
     ]
    }
   ],
   "source": [
    "print(df)"
   ]
  },
  {
   "cell_type": "code",
   "execution_count": 33,
   "metadata": {},
   "outputs": [
    {
     "name": "stdout",
     "output_type": "stream",
     "text": [
      "    Year  No_Smoothing  Lowess(5)  Status_bad   Status_good\n",
      "0   1880         -0.17      -0.10            0            1\n",
      "4   1884         -0.28      -0.24            1            0\n",
      "5   1885         -0.33      -0.26            1            0\n",
      "6   1886         -0.31      -0.27            0            1\n",
      "7   1887         -0.36      -0.27            0            1\n",
      "..   ...           ...        ...          ...          ...\n",
      "94  1974         -0.07       0.01            0            1\n",
      "95  1975         -0.01       0.02            0            1\n",
      "96  1976         -0.10       0.04            0            1\n",
      "97  1977          0.18       0.07            0            1\n",
      "98  1978          0.07       0.12            0            1\n",
      "\n",
      "[93 rows x 5 columns]\n"
     ]
    }
   ],
   "source": [
    "print(pd.get_dummies(df))"
   ]
  },
  {
   "cell_type": "code",
   "execution_count": 34,
   "metadata": {},
   "outputs": [],
   "source": [
    "df = df.astype(str)"
   ]
  },
  {
   "cell_type": "code",
   "execution_count": 35,
   "metadata": {},
   "outputs": [
    {
     "name": "stdout",
     "output_type": "stream",
     "text": [
      "<class 'pandas.core.frame.DataFrame'>\n",
      "Int64Index: 93 entries, 0 to 98\n",
      "Data columns (total 4 columns):\n",
      " #   Column        Non-Null Count  Dtype \n",
      "---  ------        --------------  ----- \n",
      " 0   Year          93 non-null     object\n",
      " 1   No_Smoothing  93 non-null     object\n",
      " 2   Lowess(5)     93 non-null     object\n",
      " 3   Status        93 non-null     object\n",
      "dtypes: object(4)\n",
      "memory usage: 3.6+ KB\n",
      "None\n"
     ]
    }
   ],
   "source": [
    "print(df.info())"
   ]
  },
  {
   "cell_type": "code",
   "execution_count": 36,
   "metadata": {},
   "outputs": [
    {
     "name": "stdout",
     "output_type": "stream",
     "text": [
      "Year            object\n",
      "No_Smoothing    object\n",
      "Lowess(5)       object\n",
      "Status          object\n",
      "dtype: object\n"
     ]
    }
   ],
   "source": [
    "print(df.dtypes)"
   ]
  },
  {
   "cell_type": "code",
   "execution_count": 37,
   "metadata": {},
   "outputs": [
    {
     "name": "stdout",
     "output_type": "stream",
     "text": [
      "Year             int64\n",
      "No_Smoothing    object\n",
      "Lowess(5)       object\n",
      "Status          object\n",
      "dtype: object\n"
     ]
    }
   ],
   "source": [
    "print(df.astype({\"Year\":\"int64\"}).dtypes)"
   ]
  },
  {
   "cell_type": "code",
   "execution_count": 38,
   "metadata": {},
   "outputs": [
    {
     "name": "stdout",
     "output_type": "stream",
     "text": [
      "Year            object\n",
      "No_Smoothing    object\n",
      "Lowess(5)       object\n",
      "Status          object\n",
      "dtype: object\n"
     ]
    }
   ],
   "source": [
    "print(df.dtypes)"
   ]
  },
  {
   "cell_type": "code",
   "execution_count": 39,
   "metadata": {},
   "outputs": [
    {
     "name": "stdout",
     "output_type": "stream",
     "text": [
      "Year            object\n",
      "No_Smoothing    object\n",
      "Lowess(5)       object\n",
      "Status          object\n",
      "dtype: object\n"
     ]
    }
   ],
   "source": [
    "print(df.dtypes)"
   ]
  },
  {
   "cell_type": "code",
   "execution_count": 40,
   "metadata": {},
   "outputs": [
    {
     "name": "stdout",
     "output_type": "stream",
     "text": [
      "<class 'pandas.core.frame.DataFrame'>\n",
      "Int64Index: 93 entries, 0 to 98\n",
      "Data columns (total 4 columns):\n",
      " #   Column        Non-Null Count  Dtype \n",
      "---  ------        --------------  ----- \n",
      " 0   Year          93 non-null     object\n",
      " 1   No_Smoothing  93 non-null     object\n",
      " 2   Lowess(5)     93 non-null     object\n",
      " 3   Status        93 non-null     object\n",
      "dtypes: object(4)\n",
      "memory usage: 3.6+ KB\n",
      "None\n"
     ]
    }
   ],
   "source": [
    "print(df.info())"
   ]
  },
  {
   "cell_type": "code",
   "execution_count": 41,
   "metadata": {},
   "outputs": [
    {
     "name": "stdout",
     "output_type": "stream",
     "text": [
      "    Year No_Smoothing Lowess(5) Status\n",
      "0   1880        -0.17      -0.1   good\n",
      "4   1884        -0.28     -0.24   bad \n",
      "5   1885        -0.33     -0.26   bad \n",
      "6   1886        -0.31     -0.27   good\n",
      "7   1887        -0.36     -0.27   good\n",
      "..   ...          ...       ...    ...\n",
      "94  1974        -0.07      0.01   good\n",
      "95  1975        -0.01      0.02   good\n",
      "96  1976         -0.1      0.04   good\n",
      "97  1977         0.18      0.07   good\n",
      "98  1978         0.07      0.12   good\n",
      "\n",
      "[93 rows x 4 columns]\n"
     ]
    }
   ],
   "source": [
    "print(df)"
   ]
  },
  {
   "cell_type": "code",
   "execution_count": 42,
   "metadata": {},
   "outputs": [
    {
     "name": "stdout",
     "output_type": "stream",
     "text": [
      "(93, 4)\n"
     ]
    }
   ],
   "source": [
    "print(df.shape)"
   ]
  },
  {
   "cell_type": "code",
   "execution_count": 43,
   "metadata": {},
   "outputs": [
    {
     "name": "stdout",
     "output_type": "stream",
     "text": [
      "Year             1880\n",
      "No_Smoothing    -0.01\n",
      "Lowess(5)       -0.01\n",
      "Status           bad \n",
      "dtype: object\n"
     ]
    }
   ],
   "source": [
    "print(df.min())"
   ]
  },
  {
   "cell_type": "code",
   "execution_count": 55,
   "metadata": {},
   "outputs": [],
   "source": [
    "df[\"Status\"] = df[\"Status\"].replace([\"good\", \"bad\"], [1,2])"
   ]
  },
  {
   "cell_type": "code",
   "execution_count": 51,
   "metadata": {},
   "outputs": [
    {
     "name": "stdout",
     "output_type": "stream",
     "text": [
      "    Year No_Smoothing Lowess(5) Status\n",
      "0   1880        -0.17      -0.1      1\n",
      "4   1884        -0.28     -0.24   bad \n",
      "5   1885        -0.33     -0.26   bad \n",
      "6   1886        -0.31     -0.27      1\n",
      "7   1887        -0.36     -0.27      1\n",
      "..   ...          ...       ...    ...\n",
      "94  1974        -0.07      0.01      1\n",
      "95  1975        -0.01      0.02      1\n",
      "96  1976         -0.1      0.04      1\n",
      "97  1977         0.18      0.07      1\n",
      "98  1978         0.07      0.12      1\n",
      "\n",
      "[93 rows x 4 columns]\n"
     ]
    }
   ],
   "source": [
    "print(df)"
   ]
  },
  {
   "cell_type": "code",
   "execution_count": 67,
   "metadata": {},
   "outputs": [],
   "source": [
    "from sklearn import preprocessing"
   ]
  },
  {
   "cell_type": "code",
   "execution_count": 68,
   "metadata": {},
   "outputs": [
    {
     "name": "stdout",
     "output_type": "stream",
     "text": [
      "\n",
      "Original data values : \n",
      " [['-0.17' '-0.1']\n",
      " ['-0.28' '-0.24']\n",
      " ['-0.33' '-0.26']\n",
      " ['-0.31' '-0.27']\n",
      " ['-0.36' '-0.27']\n",
      " ['-0.17' '-0.26']\n",
      " ['-0.1' '-0.25']\n",
      " ['-0.35' '-0.25']\n",
      " ['-0.22' '-0.26']\n",
      " ['-0.27' '-0.27']\n",
      " ['-0.32' '-0.26']\n",
      " ['-0.32' '-0.24']\n",
      " ['-0.23' '-0.23']\n",
      " ['-0.11' '-0.21']\n",
      " ['-0.11' '-0.18']\n",
      " ['-0.27' '-0.17']\n",
      " ['-0.18' '-0.17']\n",
      " ['-0.08' '-0.2']\n",
      " ['-0.16' '-0.23']\n",
      " ['-0.37' '-0.28']\n",
      " ['-0.47' '-0.31']\n",
      " ['-0.26' '-0.34']\n",
      " ['-0.22' '-0.36']\n",
      " ['-0.39' '-0.37']\n",
      " ['-0.43' '-0.39']\n",
      " ['-0.48' '-0.41']\n",
      " ['-0.44' '-0.39']\n",
      " ['-0.36' '-0.35']\n",
      " ['-0.34' '-0.32']\n",
      " ['-0.15' '-0.31']\n",
      " ['-0.14' '-0.3']\n",
      " ['-0.36' '-0.3']\n",
      " ['-0.46' '-0.3']\n",
      " ['-0.3' '-0.3']\n",
      " ['-0.28' '-0.3']\n",
      " ['-0.27' '-0.28']\n",
      " ['-0.19' '-0.27']\n",
      " ['-0.29' '-0.26']\n",
      " ['-0.27' '-0.24']\n",
      " ['-0.27' '-0.23']\n",
      " ['-0.22' '-0.22']\n",
      " ['-0.11' '-0.22']\n",
      " ['-0.22' '-0.21']\n",
      " ['-0.2' '-0.2']\n",
      " ['-0.36' '-0.19']\n",
      " ['-0.16' '-0.19']\n",
      " ['-0.09' '-0.18']\n",
      " ['-0.15' '-0.17']\n",
      " ['-0.28' '-0.16']\n",
      " ['-0.12' '-0.15']\n",
      " ['-0.2' '-0.13']\n",
      " ['-0.14' '-0.1']\n",
      " ['0.0' '-0.01']\n",
      " ['-0.01' '0.04']\n",
      " ['0.13' '0.07']\n",
      " ['0.19' '0.09']\n",
      " ['0.07' '0.11']\n",
      " ['0.09' '0.1']\n",
      " ['0.21' '0.08']\n",
      " ['0.09' '0.04']\n",
      " ['-0.07' '0.01']\n",
      " ['-0.02' '-0.03']\n",
      " ['-0.1' '-0.07']\n",
      " ['-0.11' '-0.08']\n",
      " ['-0.17' '-0.07']\n",
      " ['-0.07' '-0.07']\n",
      " ['0.01' '-0.07']\n",
      " ['0.08' '-0.07']\n",
      " ['-0.13' '-0.06']\n",
      " ['-0.14' '-0.06']\n",
      " ['-0.19' '-0.05']\n",
      " ['0.05' '-0.04']\n",
      " ['0.06' '-0.01']\n",
      " ['0.03' '0.01']\n",
      " ['-0.03' '0.03']\n",
      " ['0.06' '0.01']\n",
      " ['0.03' '-0.01']\n",
      " ['0.05' '-0.03']\n",
      " ['-0.2' '-0.04']\n",
      " ['-0.11' '-0.05']\n",
      " ['-0.06' '-0.06']\n",
      " ['-0.02' '-0.05']\n",
      " ['-0.08' '-0.03']\n",
      " ['0.05' '-0.02']\n",
      " ['0.02' '-0.01']\n",
      " ['-0.08' '0.0']\n",
      " ['0.01' '0.0']\n",
      " ['0.16' '0.0']\n",
      " ['-0.07' '0.01']\n",
      " ['-0.01' '0.02']\n",
      " ['-0.1' '0.04']\n",
      " ['0.18' '0.07']\n",
      " ['0.07' '0.12']]\n"
     ]
    }
   ],
   "source": [
    "x = df.iloc[:, 1:3].values\n",
    "print (\"\\nOriginal data values : \\n\",  x)"
   ]
  },
  {
   "cell_type": "code",
   "execution_count": 69,
   "metadata": {},
   "outputs": [],
   "source": [
    "min_max_scaler = preprocessing.MinMaxScaler(feature_range =(0, 1))"
   ]
  },
  {
   "cell_type": "code",
   "execution_count": 70,
   "metadata": {},
   "outputs": [],
   "source": [
    "x_after_min_max_scaler = min_max_scaler.fit_transform(x)"
   ]
  },
  {
   "cell_type": "code",
   "execution_count": 71,
   "metadata": {},
   "outputs": [
    {
     "name": "stdout",
     "output_type": "stream",
     "text": [
      "[[0.44927536 0.58490566]\n",
      " [0.28985507 0.32075472]\n",
      " [0.2173913  0.28301887]\n",
      " [0.24637681 0.26415094]\n",
      " [0.17391304 0.26415094]\n",
      " [0.44927536 0.28301887]\n",
      " [0.55072464 0.30188679]\n",
      " [0.1884058  0.30188679]\n",
      " [0.37681159 0.28301887]\n",
      " [0.30434783 0.26415094]\n",
      " [0.23188406 0.28301887]\n",
      " [0.23188406 0.32075472]\n",
      " [0.36231884 0.33962264]\n",
      " [0.53623188 0.37735849]\n",
      " [0.53623188 0.43396226]\n",
      " [0.30434783 0.45283019]\n",
      " [0.43478261 0.45283019]\n",
      " [0.57971014 0.39622642]\n",
      " [0.46376812 0.33962264]\n",
      " [0.15942029 0.24528302]\n",
      " [0.01449275 0.18867925]\n",
      " [0.31884058 0.13207547]\n",
      " [0.37681159 0.09433962]\n",
      " [0.13043478 0.0754717 ]\n",
      " [0.07246377 0.03773585]\n",
      " [0.         0.        ]\n",
      " [0.05797101 0.03773585]\n",
      " [0.17391304 0.11320755]\n",
      " [0.20289855 0.16981132]\n",
      " [0.47826087 0.18867925]\n",
      " [0.49275362 0.20754717]\n",
      " [0.17391304 0.20754717]\n",
      " [0.02898551 0.20754717]\n",
      " [0.26086957 0.20754717]\n",
      " [0.28985507 0.20754717]\n",
      " [0.30434783 0.24528302]\n",
      " [0.42028986 0.26415094]\n",
      " [0.27536232 0.28301887]\n",
      " [0.30434783 0.32075472]\n",
      " [0.30434783 0.33962264]\n",
      " [0.37681159 0.35849057]\n",
      " [0.53623188 0.35849057]\n",
      " [0.37681159 0.37735849]\n",
      " [0.4057971  0.39622642]\n",
      " [0.17391304 0.41509434]\n",
      " [0.46376812 0.41509434]\n",
      " [0.56521739 0.43396226]\n",
      " [0.47826087 0.45283019]\n",
      " [0.28985507 0.47169811]\n",
      " [0.52173913 0.49056604]\n",
      " [0.4057971  0.52830189]\n",
      " [0.49275362 0.58490566]\n",
      " [0.69565217 0.75471698]\n",
      " [0.68115942 0.8490566 ]\n",
      " [0.88405797 0.90566038]\n",
      " [0.97101449 0.94339623]\n",
      " [0.79710145 0.98113208]\n",
      " [0.82608696 0.96226415]\n",
      " [1.         0.9245283 ]\n",
      " [0.82608696 0.8490566 ]\n",
      " [0.5942029  0.79245283]\n",
      " [0.66666667 0.71698113]\n",
      " [0.55072464 0.64150943]\n",
      " [0.53623188 0.62264151]\n",
      " [0.44927536 0.64150943]\n",
      " [0.5942029  0.64150943]\n",
      " [0.71014493 0.64150943]\n",
      " [0.8115942  0.64150943]\n",
      " [0.50724638 0.66037736]\n",
      " [0.49275362 0.66037736]\n",
      " [0.42028986 0.67924528]\n",
      " [0.76811594 0.69811321]\n",
      " [0.7826087  0.75471698]\n",
      " [0.73913043 0.79245283]\n",
      " [0.65217391 0.83018868]\n",
      " [0.7826087  0.79245283]\n",
      " [0.73913043 0.75471698]\n",
      " [0.76811594 0.71698113]\n",
      " [0.4057971  0.69811321]\n",
      " [0.53623188 0.67924528]\n",
      " [0.60869565 0.66037736]\n",
      " [0.66666667 0.67924528]\n",
      " [0.57971014 0.71698113]\n",
      " [0.76811594 0.73584906]\n",
      " [0.72463768 0.75471698]\n",
      " [0.57971014 0.77358491]\n",
      " [0.71014493 0.77358491]\n",
      " [0.92753623 0.77358491]\n",
      " [0.5942029  0.79245283]\n",
      " [0.68115942 0.81132075]\n",
      " [0.55072464 0.8490566 ]\n",
      " [0.95652174 0.90566038]\n",
      " [0.79710145 1.        ]]\n"
     ]
    }
   ],
   "source": [
    "print(x_after_min_max_scaler)"
   ]
  },
  {
   "cell_type": "code",
   "execution_count": 72,
   "metadata": {},
   "outputs": [],
   "source": [
    "Standardisation = preprocessing.StandardScaler()"
   ]
  },
  {
   "cell_type": "code",
   "execution_count": 73,
   "metadata": {},
   "outputs": [],
   "source": [
    "x_after_standardisation = Standardisation.fit_transform(x)"
   ]
  },
  {
   "cell_type": "code",
   "execution_count": 74,
   "metadata": {},
   "outputs": [
    {
     "name": "stdout",
     "output_type": "stream",
     "text": [
      "[[-0.15484175  0.30144643]\n",
      " [-0.82889756 -0.70750794]\n",
      " [-1.13528656 -0.85164428]\n",
      " [-1.01273096 -0.92371245]\n",
      " [-1.31911997 -0.92371245]\n",
      " [-0.15484175 -0.85164428]\n",
      " [ 0.27410285 -0.77957611]\n",
      " [-1.25784217 -0.77957611]\n",
      " [-0.46123076 -0.85164428]\n",
      " [-0.76761976 -0.92371245]\n",
      " [-1.07400876 -0.85164428]\n",
      " [-1.07400876 -0.70750794]\n",
      " [-0.52250856 -0.63543977]\n",
      " [ 0.21282505 -0.49130343]\n",
      " [ 0.21282505 -0.27509892]\n",
      " [-0.76761976 -0.20303076]\n",
      " [-0.21611956 -0.20303076]\n",
      " [ 0.39665845 -0.41923526]\n",
      " [-0.09356395 -0.63543977]\n",
      " [-1.38039777 -0.99578061]\n",
      " [-1.99317577 -1.21198512]\n",
      " [-0.70634196 -1.42818963]\n",
      " [-0.46123076 -1.57232597]\n",
      " [-1.50295337 -1.64439414]\n",
      " [-1.74806457 -1.78853047]\n",
      " [-2.05445357 -1.93266681]\n",
      " [-1.80934237 -1.78853047]\n",
      " [-1.31911997 -1.5002578 ]\n",
      " [-1.19656437 -1.28405329]\n",
      " [-0.03228615 -1.21198512]\n",
      " [ 0.02899165 -1.13991695]\n",
      " [-1.31911997 -1.13991695]\n",
      " [-1.93189797 -1.13991695]\n",
      " [-0.95145316 -1.13991695]\n",
      " [-0.82889756 -1.13991695]\n",
      " [-0.76761976 -0.99578061]\n",
      " [-0.27739736 -0.92371245]\n",
      " [-0.89017536 -0.85164428]\n",
      " [-0.76761976 -0.70750794]\n",
      " [-0.76761976 -0.63543977]\n",
      " [-0.46123076 -0.5633716 ]\n",
      " [ 0.21282505 -0.5633716 ]\n",
      " [-0.46123076 -0.49130343]\n",
      " [-0.33867516 -0.41923526]\n",
      " [-1.31911997 -0.34716709]\n",
      " [-0.09356395 -0.34716709]\n",
      " [ 0.33538065 -0.27509892]\n",
      " [-0.03228615 -0.20303076]\n",
      " [-0.82889756 -0.13096259]\n",
      " [ 0.15154725 -0.05889442]\n",
      " [-0.33867516  0.08524192]\n",
      " [ 0.02899165  0.30144643]\n",
      " [ 0.88688086  0.95005995]\n",
      " [ 0.82560306  1.31040079]\n",
      " [ 1.68349227  1.5266053 ]\n",
      " [ 2.05115907  1.67074164]\n",
      " [ 1.31582546  1.81487798]\n",
      " [ 1.43838106  1.74280981]\n",
      " [ 2.17371467  1.59867347]\n",
      " [ 1.43838106  1.31040079]\n",
      " [ 0.45793625  1.09419629]\n",
      " [ 0.76432526  0.80592361]\n",
      " [ 0.27410285  0.51765093]\n",
      " [ 0.21282505  0.44558277]\n",
      " [-0.15484175  0.51765093]\n",
      " [ 0.45793625  0.51765093]\n",
      " [ 0.94815866  0.51765093]\n",
      " [ 1.37710326  0.51765093]\n",
      " [ 0.09026945  0.5897191 ]\n",
      " [ 0.02899165  0.5897191 ]\n",
      " [-0.27739736  0.66178727]\n",
      " [ 1.19326986  0.73385544]\n",
      " [ 1.25454766  0.95005995]\n",
      " [ 1.07071426  1.09419629]\n",
      " [ 0.70304745  1.23833262]\n",
      " [ 1.25454766  1.09419629]\n",
      " [ 1.07071426  0.95005995]\n",
      " [ 1.19326986  0.80592361]\n",
      " [-0.33867516  0.73385544]\n",
      " [ 0.21282505  0.66178727]\n",
      " [ 0.51921405  0.5897191 ]\n",
      " [ 0.76432526  0.66178727]\n",
      " [ 0.39665845  0.80592361]\n",
      " [ 1.19326986  0.87799178]\n",
      " [ 1.00943646  0.95005995]\n",
      " [ 0.39665845  1.02212812]\n",
      " [ 0.94815866  1.02212812]\n",
      " [ 1.86732567  1.02212812]\n",
      " [ 0.45793625  1.09419629]\n",
      " [ 0.82560306  1.16626446]\n",
      " [ 0.27410285  1.31040079]\n",
      " [ 1.98988127  1.5266053 ]\n",
      " [ 1.31582546  1.88694614]]\n"
     ]
    }
   ],
   "source": [
    "print(x_after_standardisation)"
   ]
  },
  {
   "cell_type": "code",
   "execution_count": 84,
   "metadata": {},
   "outputs": [],
   "source": [
    "%matplotlib inline"
   ]
  },
  {
   "cell_type": "code",
   "execution_count": 85,
   "metadata": {},
   "outputs": [
    {
     "ename": "SyntaxError",
     "evalue": "invalid syntax (<ipython-input-85-ffca97c44919>, line 1)",
     "output_type": "error",
     "traceback": [
      "\u001b[0;36m  File \u001b[0;32m\"<ipython-input-85-ffca97c44919>\"\u001b[0;36m, line \u001b[0;32m1\u001b[0m\n\u001b[0;31m    import seaborn as sns % matplotlib inline\u001b[0m\n\u001b[0m                          ^\u001b[0m\n\u001b[0;31mSyntaxError\u001b[0m\u001b[0;31m:\u001b[0m invalid syntax\n"
     ]
    }
   ],
   "source": []
  },
  {
   "cell_type": "code",
   "execution_count": 87,
   "metadata": {},
   "outputs": [],
   "source": [
    "import seaborn as sns"
   ]
  },
  {
   "cell_type": "code",
   "execution_count": 88,
   "metadata": {},
   "outputs": [],
   "source": [
    "matplotlib.style.use('fivethirtyeight')"
   ]
  },
  {
   "cell_type": "code",
   "execution_count": 91,
   "metadata": {},
   "outputs": [],
   "source": [
    "x_after_standardisation = pd.DataFrame(x_after_standardisation, columns =['\tNo_Smoothing', 'Lowess(5)'])\n"
   ]
  },
  {
   "cell_type": "code",
   "execution_count": 92,
   "metadata": {},
   "outputs": [
    {
     "ename": "KeyError",
     "evalue": "'No_Smoothing'",
     "output_type": "error",
     "traceback": [
      "\u001b[0;31m---------------------------------------------------------------------------\u001b[0m",
      "\u001b[0;31mKeyError\u001b[0m                                  Traceback (most recent call last)",
      "\u001b[0;32m~/.local/lib/python3.8/site-packages/pandas/core/indexes/base.py\u001b[0m in \u001b[0;36mget_loc\u001b[0;34m(self, key, method, tolerance)\u001b[0m\n\u001b[1;32m   3801\u001b[0m             \u001b[0;32mtry\u001b[0m\u001b[0;34m:\u001b[0m\u001b[0;34m\u001b[0m\u001b[0;34m\u001b[0m\u001b[0m\n\u001b[0;32m-> 3802\u001b[0;31m                 \u001b[0;32mreturn\u001b[0m \u001b[0mself\u001b[0m\u001b[0;34m.\u001b[0m\u001b[0m_engine\u001b[0m\u001b[0;34m.\u001b[0m\u001b[0mget_loc\u001b[0m\u001b[0;34m(\u001b[0m\u001b[0mcasted_key\u001b[0m\u001b[0;34m)\u001b[0m\u001b[0;34m\u001b[0m\u001b[0;34m\u001b[0m\u001b[0m\n\u001b[0m\u001b[1;32m   3803\u001b[0m             \u001b[0;32mexcept\u001b[0m \u001b[0mKeyError\u001b[0m \u001b[0;32mas\u001b[0m \u001b[0merr\u001b[0m\u001b[0;34m:\u001b[0m\u001b[0;34m\u001b[0m\u001b[0;34m\u001b[0m\u001b[0m\n",
      "\u001b[0;32m~/.local/lib/python3.8/site-packages/pandas/_libs/index.pyx\u001b[0m in \u001b[0;36mpandas._libs.index.IndexEngine.get_loc\u001b[0;34m()\u001b[0m\n",
      "\u001b[0;32m~/.local/lib/python3.8/site-packages/pandas/_libs/index.pyx\u001b[0m in \u001b[0;36mpandas._libs.index.IndexEngine.get_loc\u001b[0;34m()\u001b[0m\n",
      "\u001b[0;32mpandas/_libs/hashtable_class_helper.pxi\u001b[0m in \u001b[0;36mpandas._libs.hashtable.PyObjectHashTable.get_item\u001b[0;34m()\u001b[0m\n",
      "\u001b[0;32mpandas/_libs/hashtable_class_helper.pxi\u001b[0m in \u001b[0;36mpandas._libs.hashtable.PyObjectHashTable.get_item\u001b[0;34m()\u001b[0m\n",
      "\u001b[0;31mKeyError\u001b[0m: 'No_Smoothing'",
      "\nThe above exception was the direct cause of the following exception:\n",
      "\u001b[0;31mKeyError\u001b[0m                                  Traceback (most recent call last)",
      "\u001b[0;32m<ipython-input-92-3b3c4025fe2f>\u001b[0m in \u001b[0;36m<module>\u001b[0;34m\u001b[0m\n\u001b[0;32m----> 1\u001b[0;31m \u001b[0msns\u001b[0m\u001b[0;34m.\u001b[0m\u001b[0mkdeplot\u001b[0m\u001b[0;34m(\u001b[0m\u001b[0mx_after_standardisation\u001b[0m\u001b[0;34m[\u001b[0m\u001b[0;34m'No_Smoothing'\u001b[0m\u001b[0;34m]\u001b[0m\u001b[0;34m,\u001b[0m \u001b[0max\u001b[0m \u001b[0;34m=\u001b[0m \u001b[0max3\u001b[0m\u001b[0;34m,\u001b[0m \u001b[0mcolor\u001b[0m \u001b[0;34m=\u001b[0m\u001b[0;34m'black'\u001b[0m\u001b[0;34m)\u001b[0m\u001b[0;34m\u001b[0m\u001b[0;34m\u001b[0m\u001b[0m\n\u001b[0m\u001b[1;32m      2\u001b[0m \u001b[0msns\u001b[0m\u001b[0;34m.\u001b[0m\u001b[0mkdeplot\u001b[0m\u001b[0;34m(\u001b[0m\u001b[0mx_after_standardisation\u001b[0m\u001b[0;34m[\u001b[0m\u001b[0;34m'Lowess(5)'\u001b[0m\u001b[0;34m]\u001b[0m\u001b[0;34m,\u001b[0m \u001b[0max\u001b[0m \u001b[0;34m=\u001b[0m \u001b[0max3\u001b[0m\u001b[0;34m,\u001b[0m \u001b[0mcolor\u001b[0m \u001b[0;34m=\u001b[0m\u001b[0;34m'g'\u001b[0m\u001b[0;34m)\u001b[0m\u001b[0;34m\u001b[0m\u001b[0;34m\u001b[0m\u001b[0m\n\u001b[1;32m      3\u001b[0m \u001b[0max4\u001b[0m\u001b[0;34m.\u001b[0m\u001b[0mset_title\u001b[0m\u001b[0;34m(\u001b[0m\u001b[0;34m'After Min-Max Scaling'\u001b[0m\u001b[0;34m)\u001b[0m\u001b[0;34m\u001b[0m\u001b[0;34m\u001b[0m\u001b[0m\n",
      "\u001b[0;32m~/.local/lib/python3.8/site-packages/pandas/core/frame.py\u001b[0m in \u001b[0;36m__getitem__\u001b[0;34m(self, key)\u001b[0m\n\u001b[1;32m   3805\u001b[0m             \u001b[0;32mif\u001b[0m \u001b[0mself\u001b[0m\u001b[0;34m.\u001b[0m\u001b[0mcolumns\u001b[0m\u001b[0;34m.\u001b[0m\u001b[0mnlevels\u001b[0m \u001b[0;34m>\u001b[0m \u001b[0;36m1\u001b[0m\u001b[0;34m:\u001b[0m\u001b[0;34m\u001b[0m\u001b[0;34m\u001b[0m\u001b[0m\n\u001b[1;32m   3806\u001b[0m                 \u001b[0;32mreturn\u001b[0m \u001b[0mself\u001b[0m\u001b[0;34m.\u001b[0m\u001b[0m_getitem_multilevel\u001b[0m\u001b[0;34m(\u001b[0m\u001b[0mkey\u001b[0m\u001b[0;34m)\u001b[0m\u001b[0;34m\u001b[0m\u001b[0;34m\u001b[0m\u001b[0m\n\u001b[0;32m-> 3807\u001b[0;31m             \u001b[0mindexer\u001b[0m \u001b[0;34m=\u001b[0m \u001b[0mself\u001b[0m\u001b[0;34m.\u001b[0m\u001b[0mcolumns\u001b[0m\u001b[0;34m.\u001b[0m\u001b[0mget_loc\u001b[0m\u001b[0;34m(\u001b[0m\u001b[0mkey\u001b[0m\u001b[0;34m)\u001b[0m\u001b[0;34m\u001b[0m\u001b[0;34m\u001b[0m\u001b[0m\n\u001b[0m\u001b[1;32m   3808\u001b[0m             \u001b[0;32mif\u001b[0m \u001b[0mis_integer\u001b[0m\u001b[0;34m(\u001b[0m\u001b[0mindexer\u001b[0m\u001b[0;34m)\u001b[0m\u001b[0;34m:\u001b[0m\u001b[0;34m\u001b[0m\u001b[0;34m\u001b[0m\u001b[0m\n\u001b[1;32m   3809\u001b[0m                 \u001b[0mindexer\u001b[0m \u001b[0;34m=\u001b[0m \u001b[0;34m[\u001b[0m\u001b[0mindexer\u001b[0m\u001b[0;34m]\u001b[0m\u001b[0;34m\u001b[0m\u001b[0;34m\u001b[0m\u001b[0m\n",
      "\u001b[0;32m~/.local/lib/python3.8/site-packages/pandas/core/indexes/base.py\u001b[0m in \u001b[0;36mget_loc\u001b[0;34m(self, key, method, tolerance)\u001b[0m\n\u001b[1;32m   3802\u001b[0m                 \u001b[0;32mreturn\u001b[0m \u001b[0mself\u001b[0m\u001b[0;34m.\u001b[0m\u001b[0m_engine\u001b[0m\u001b[0;34m.\u001b[0m\u001b[0mget_loc\u001b[0m\u001b[0;34m(\u001b[0m\u001b[0mcasted_key\u001b[0m\u001b[0;34m)\u001b[0m\u001b[0;34m\u001b[0m\u001b[0;34m\u001b[0m\u001b[0m\n\u001b[1;32m   3803\u001b[0m             \u001b[0;32mexcept\u001b[0m \u001b[0mKeyError\u001b[0m \u001b[0;32mas\u001b[0m \u001b[0merr\u001b[0m\u001b[0;34m:\u001b[0m\u001b[0;34m\u001b[0m\u001b[0;34m\u001b[0m\u001b[0m\n\u001b[0;32m-> 3804\u001b[0;31m                 \u001b[0;32mraise\u001b[0m \u001b[0mKeyError\u001b[0m\u001b[0;34m(\u001b[0m\u001b[0mkey\u001b[0m\u001b[0;34m)\u001b[0m \u001b[0;32mfrom\u001b[0m \u001b[0merr\u001b[0m\u001b[0;34m\u001b[0m\u001b[0;34m\u001b[0m\u001b[0m\n\u001b[0m\u001b[1;32m   3805\u001b[0m             \u001b[0;32mexcept\u001b[0m \u001b[0mTypeError\u001b[0m\u001b[0;34m:\u001b[0m\u001b[0;34m\u001b[0m\u001b[0;34m\u001b[0m\u001b[0m\n\u001b[1;32m   3806\u001b[0m                 \u001b[0;31m# If we have a listlike key, _check_indexing_error will raise\u001b[0m\u001b[0;34m\u001b[0m\u001b[0;34m\u001b[0m\u001b[0;34m\u001b[0m\u001b[0m\n",
      "\u001b[0;31mKeyError\u001b[0m: 'No_Smoothing'"
     ]
    }
   ],
   "source": [
    "sns.kdeplot(x_after_standardisation['No_Smoothing'], ax = ax3, color ='black')\n",
    "sns.kdeplot(x_after_standardisation['Lowess(5)'], ax = ax3, color ='g')\n",
    "ax4.set_title('After Min-Max Scaling')"
   ]
  },
  {
   "cell_type": "code",
   "execution_count": null,
   "metadata": {},
   "outputs": [],
   "source": []
  }
 ],
 "metadata": {
  "kernelspec": {
   "display_name": "Python 3",
   "language": "python",
   "name": "python3"
  },
  "language_info": {
   "codemirror_mode": {
    "name": "ipython",
    "version": 3
   },
   "file_extension": ".py",
   "mimetype": "text/x-python",
   "name": "python",
   "nbconvert_exporter": "python",
   "pygments_lexer": "ipython3",
   "version": "3.10.2"
  },
  "vscode": {
   "interpreter": {
    "hash": "369f2c481f4da34e4445cda3fffd2e751bd1c4d706f27375911949ba6bb62e1c"
   }
  }
 },
 "nbformat": 4,
 "nbformat_minor": 4
}
