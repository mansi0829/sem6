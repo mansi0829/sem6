{
  "metadata": {
    "language_info": {
      "codemirror_mode": {
        "name": "python",
        "version": 3
      },
      "file_extension": ".py",
      "mimetype": "text/x-python",
      "name": "python",
      "nbconvert_exporter": "python",
      "pygments_lexer": "ipython3",
      "version": "3.8"
    },
    "kernelspec": {
      "name": "python",
      "display_name": "Python (Pyodide)",
      "language": "python"
    }
  },
  "nbformat_minor": 4,
  "nbformat": 4,
  "cells": [
    {
      "cell_type": "code",
      "source": "import pandas as pd",
      "metadata": {
        "trusted": true
      },
      "execution_count": 46,
      "outputs": []
    },
    {
      "cell_type": "code",
      "source": "df = pd.read_csv(\"Global_annual_mean_temp.csv\")",
      "metadata": {
        "trusted": true
      },
      "execution_count": 47,
      "outputs": []
    },
    {
      "cell_type": "code",
      "source": "print(df)",
      "metadata": {
        "trusted": true
      },
      "execution_count": 48,
      "outputs": [
        {
          "name": "stdout",
          "text": "     Year  No_Smoothing  Lowess(5)\n0    1880         -0.17      -0.10\n1    1881         -0.09        NaN\n2    1882         -0.11        NaN\n3    1883           NaN      -0.20\n4    1884         -0.28      -0.24\n..    ...           ...        ...\n138  2018          0.85       0.92\n139  2019          0.98       0.93\n140  2020          1.02       0.93\n141  2021          0.84       0.94\n142  2022          0.89       0.90\n\n[143 rows x 3 columns]\n",
          "output_type": "stream"
        }
      ]
    },
    {
      "cell_type": "code",
      "source": "print(df.head())",
      "metadata": {
        "trusted": true
      },
      "execution_count": 49,
      "outputs": [
        {
          "name": "stdout",
          "text": "   Year  No_Smoothing  Lowess(5)\n0  1880         -0.17      -0.10\n1  1881         -0.09        NaN\n2  1882         -0.11        NaN\n3  1883           NaN      -0.20\n4  1884         -0.28      -0.24\n",
          "output_type": "stream"
        }
      ]
    },
    {
      "cell_type": "code",
      "source": "print(df.head(0))",
      "metadata": {
        "trusted": true
      },
      "execution_count": 50,
      "outputs": [
        {
          "name": "stdout",
          "text": "Empty DataFrame\nColumns: [Year, No_Smoothing, Lowess(5)]\nIndex: []\n",
          "output_type": "stream"
        }
      ]
    },
    {
      "cell_type": "code",
      "source": "print(df.head(3))",
      "metadata": {
        "trusted": true
      },
      "execution_count": 51,
      "outputs": [
        {
          "name": "stdout",
          "text": "   Year  No_Smoothing  Lowess(5)\n0  1880         -0.17       -0.1\n1  1881         -0.09        NaN\n2  1882         -0.11        NaN\n",
          "output_type": "stream"
        }
      ]
    },
    {
      "cell_type": "code",
      "source": "print(df.head(-3))",
      "metadata": {
        "trusted": true
      },
      "execution_count": 52,
      "outputs": [
        {
          "name": "stdout",
          "text": "     Year  No_Smoothing  Lowess(5)\n0    1880         -0.17      -0.10\n1    1881         -0.09        NaN\n2    1882         -0.11        NaN\n3    1883           NaN      -0.20\n4    1884         -0.28      -0.24\n..    ...           ...        ...\n135  2015          0.89       0.83\n136  2016          1.01       0.87\n137  2017          0.92       0.91\n138  2018          0.85       0.92\n139  2019          0.98       0.93\n\n[140 rows x 3 columns]\n",
          "output_type": "stream"
        }
      ]
    },
    {
      "cell_type": "code",
      "source": "print(df.tail())",
      "metadata": {
        "trusted": true
      },
      "execution_count": 53,
      "outputs": [
        {
          "name": "stdout",
          "text": "     Year  No_Smoothing  Lowess(5)\n138  2018          0.85       0.92\n139  2019          0.98       0.93\n140  2020          1.02       0.93\n141  2021          0.84       0.94\n142  2022          0.89       0.90\n",
          "output_type": "stream"
        }
      ]
    },
    {
      "cell_type": "code",
      "source": "print(df.tail(0))",
      "metadata": {
        "trusted": true
      },
      "execution_count": 54,
      "outputs": [
        {
          "name": "stdout",
          "text": "Empty DataFrame\nColumns: [Year, No_Smoothing, Lowess(5)]\nIndex: []\n",
          "output_type": "stream"
        }
      ]
    },
    {
      "cell_type": "code",
      "source": "print(df.tail(3))",
      "metadata": {
        "trusted": true
      },
      "execution_count": 55,
      "outputs": [
        {
          "name": "stdout",
          "text": "     Year  No_Smoothing  Lowess(5)\n140  2020          1.02       0.93\n141  2021          0.84       0.94\n142  2022          0.89       0.90\n",
          "output_type": "stream"
        }
      ]
    },
    {
      "cell_type": "code",
      "source": "print(df.tail(-3))",
      "metadata": {
        "trusted": true
      },
      "execution_count": 56,
      "outputs": [
        {
          "name": "stdout",
          "text": "     Year  No_Smoothing  Lowess(5)\n3    1883           NaN      -0.20\n4    1884         -0.28      -0.24\n5    1885         -0.33      -0.26\n6    1886         -0.31      -0.27\n7    1887         -0.36      -0.27\n..    ...           ...        ...\n138  2018          0.85       0.92\n139  2019          0.98       0.93\n140  2020          1.02       0.93\n141  2021          0.84       0.94\n142  2022          0.89       0.90\n\n[140 rows x 3 columns]\n",
          "output_type": "stream"
        }
      ]
    },
    {
      "cell_type": "code",
      "source": "print(df.info())",
      "metadata": {
        "trusted": true
      },
      "execution_count": 57,
      "outputs": [
        {
          "name": "stdout",
          "text": "<class 'pandas.core.frame.DataFrame'>\nRangeIndex: 143 entries, 0 to 142\nData columns (total 3 columns):\n #   Column        Non-Null Count  Dtype  \n---  ------        --------------  -----  \n 0   Year          143 non-null    int64  \n 1   No_Smoothing  141 non-null    float64\n 2   Lowess(5)     139 non-null    float64\ndtypes: float64(2), int64(1)\nmemory usage: 3.4 KB\nNone\n",
          "output_type": "stream"
        }
      ]
    },
    {
      "cell_type": "code",
      "source": "print(df.describe())",
      "metadata": {
        "trusted": true
      },
      "execution_count": 58,
      "outputs": [
        {
          "name": "stdout",
          "text": "             Year  No_Smoothing   Lowess(5)\ncount   143.00000    141.000000  139.000000\nmean   1951.00000      0.064965    0.066115\nstd      41.42463      0.367670    0.359834\nmin    1880.00000     -0.480000   -0.410000\n25%    1915.50000     -0.200000   -0.225000\n50%    1951.00000     -0.030000   -0.030000\n75%    1986.50000      0.270000    0.290000\nmax    2022.00000      1.020000    0.940000\n",
          "output_type": "stream"
        }
      ]
    },
    {
      "cell_type": "code",
      "source": "print(df.isnull())",
      "metadata": {
        "trusted": true
      },
      "execution_count": 59,
      "outputs": [
        {
          "name": "stdout",
          "text": "      Year  No_Smoothing  Lowess(5)\n0    False         False      False\n1    False         False       True\n2    False         False       True\n3    False          True      False\n4    False         False      False\n..     ...           ...        ...\n138  False         False      False\n139  False         False      False\n140  False         False      False\n141  False         False      False\n142  False         False      False\n\n[143 rows x 3 columns]\n",
          "output_type": "stream"
        }
      ]
    },
    {
      "cell_type": "code",
      "source": "print(df.isnull())#changes made in csv",
      "metadata": {
        "trusted": true
      },
      "execution_count": 60,
      "outputs": [
        {
          "name": "stdout",
          "text": "      Year  No_Smoothing  Lowess(5)\n0    False         False      False\n1    False         False       True\n2    False         False       True\n3    False          True      False\n4    False         False      False\n..     ...           ...        ...\n138  False         False      False\n139  False         False      False\n140  False         False      False\n141  False         False      False\n142  False         False      False\n\n[143 rows x 3 columns]\n",
          "output_type": "stream"
        }
      ]
    },
    {
      "cell_type": "code",
      "source": "print(df.isnull().count())#changes made in csv",
      "metadata": {
        "trusted": true
      },
      "execution_count": 61,
      "outputs": [
        {
          "name": "stdout",
          "text": "Year            143\nNo_Smoothing    143\nLowess(5)       143\ndtype: int64\n",
          "output_type": "stream"
        }
      ]
    },
    {
      "cell_type": "code",
      "source": "print(df.dropna())#changes made in csv",
      "metadata": {
        "trusted": true
      },
      "execution_count": 62,
      "outputs": [
        {
          "name": "stdout",
          "text": "     Year  No_Smoothing  Lowess(5)\n0    1880         -0.17      -0.10\n4    1884         -0.28      -0.24\n5    1885         -0.33      -0.26\n6    1886         -0.31      -0.27\n7    1887         -0.36      -0.27\n..    ...           ...        ...\n138  2018          0.85       0.92\n139  2019          0.98       0.93\n140  2020          1.02       0.93\n141  2021          0.84       0.94\n142  2022          0.89       0.90\n\n[137 rows x 3 columns]\n",
          "output_type": "stream"
        }
      ]
    },
    {
      "cell_type": "code",
      "source": "print(df)",
      "metadata": {
        "trusted": true
      },
      "execution_count": 63,
      "outputs": [
        {
          "name": "stdout",
          "text": "     Year  No_Smoothing  Lowess(5)\n0    1880         -0.17      -0.10\n1    1881         -0.09        NaN\n2    1882         -0.11        NaN\n3    1883           NaN      -0.20\n4    1884         -0.28      -0.24\n..    ...           ...        ...\n138  2018          0.85       0.92\n139  2019          0.98       0.93\n140  2020          1.02       0.93\n141  2021          0.84       0.94\n142  2022          0.89       0.90\n\n[143 rows x 3 columns]\n",
          "output_type": "stream"
        }
      ]
    },
    {
      "cell_type": "code",
      "source": "df.isnull().sum()",
      "metadata": {
        "trusted": true
      },
      "execution_count": 64,
      "outputs": [
        {
          "execution_count": 64,
          "output_type": "execute_result",
          "data": {
            "text/plain": "Year            0\nNo_Smoothing    2\nLowess(5)       4\ndtype: int64"
          },
          "metadata": {}
        }
      ]
    },
    {
      "cell_type": "code",
      "source": "df.dropna( inplace = True )",
      "metadata": {
        "trusted": true
      },
      "execution_count": 65,
      "outputs": []
    },
    {
      "cell_type": "code",
      "source": "print(df)",
      "metadata": {
        "trusted": true
      },
      "execution_count": 66,
      "outputs": [
        {
          "name": "stdout",
          "text": "     Year  No_Smoothing  Lowess(5)\n0    1880         -0.17      -0.10\n4    1884         -0.28      -0.24\n5    1885         -0.33      -0.26\n6    1886         -0.31      -0.27\n7    1887         -0.36      -0.27\n..    ...           ...        ...\n138  2018          0.85       0.92\n139  2019          0.98       0.93\n140  2020          1.02       0.93\n141  2021          0.84       0.94\n142  2022          0.89       0.90\n\n[137 rows x 3 columns]\n",
          "output_type": "stream"
        }
      ]
    },
    {
      "cell_type": "code",
      "source": "print(pd.get_dummies(df))",
      "metadata": {
        "trusted": true
      },
      "execution_count": 67,
      "outputs": [
        {
          "name": "stdout",
          "text": "     Year  No_Smoothing  Lowess(5)\n0    1880         -0.17      -0.10\n4    1884         -0.28      -0.24\n5    1885         -0.33      -0.26\n6    1886         -0.31      -0.27\n7    1887         -0.36      -0.27\n..    ...           ...        ...\n138  2018          0.85       0.92\n139  2019          0.98       0.93\n140  2020          1.02       0.93\n141  2021          0.84       0.94\n142  2022          0.89       0.90\n\n[137 rows x 3 columns]\n",
          "output_type": "stream"
        }
      ]
    },
    {
      "cell_type": "code",
      "source": "df = df.astype(str)",
      "metadata": {
        "trusted": true
      },
      "execution_count": 68,
      "outputs": []
    },
    {
      "cell_type": "code",
      "source": "print(df.info())",
      "metadata": {
        "trusted": true
      },
      "execution_count": 69,
      "outputs": [
        {
          "name": "stdout",
          "text": "<class 'pandas.core.frame.DataFrame'>\nInt64Index: 137 entries, 0 to 142\nData columns (total 3 columns):\n #   Column        Non-Null Count  Dtype \n---  ------        --------------  ----- \n 0   Year          137 non-null    object\n 1   No_Smoothing  137 non-null    object\n 2   Lowess(5)     137 non-null    object\ndtypes: object(3)\nmemory usage: 2.7+ KB\nNone\n",
          "output_type": "stream"
        }
      ]
    },
    {
      "cell_type": "code",
      "source": "print(df.dtypes)",
      "metadata": {
        "trusted": true
      },
      "execution_count": 70,
      "outputs": [
        {
          "name": "stdout",
          "text": "Year            object\nNo_Smoothing    object\nLowess(5)       object\ndtype: object\n",
          "output_type": "stream"
        }
      ]
    },
    {
      "cell_type": "code",
      "source": "print(df.astype({\"Year\":\"int64\"}).dtypes)",
      "metadata": {
        "trusted": true
      },
      "execution_count": 71,
      "outputs": [
        {
          "name": "stdout",
          "text": "Year             int64\nNo_Smoothing    object\nLowess(5)       object\ndtype: object\n",
          "output_type": "stream"
        }
      ]
    },
    {
      "cell_type": "code",
      "source": "print(df.dtypes)",
      "metadata": {
        "trusted": true
      },
      "execution_count": 72,
      "outputs": [
        {
          "name": "stdout",
          "text": "Year            object\nNo_Smoothing    object\nLowess(5)       object\ndtype: object\n",
          "output_type": "stream"
        }
      ]
    },
    {
      "cell_type": "code",
      "source": "print(df.dtypes)",
      "metadata": {
        "trusted": true
      },
      "execution_count": 73,
      "outputs": [
        {
          "name": "stdout",
          "text": "Year            object\nNo_Smoothing    object\nLowess(5)       object\ndtype: object\n",
          "output_type": "stream"
        }
      ]
    },
    {
      "cell_type": "code",
      "source": "print(df.info())",
      "metadata": {
        "trusted": true
      },
      "execution_count": 74,
      "outputs": [
        {
          "name": "stdout",
          "text": "<class 'pandas.core.frame.DataFrame'>\nInt64Index: 137 entries, 0 to 142\nData columns (total 3 columns):\n #   Column        Non-Null Count  Dtype \n---  ------        --------------  ----- \n 0   Year          137 non-null    object\n 1   No_Smoothing  137 non-null    object\n 2   Lowess(5)     137 non-null    object\ndtypes: object(3)\nmemory usage: 2.7+ KB\nNone\n",
          "output_type": "stream"
        }
      ]
    },
    {
      "cell_type": "code",
      "source": "print(df)",
      "metadata": {
        "trusted": true
      },
      "execution_count": 83,
      "outputs": [
        {
          "name": "stdout",
          "text": "     Year No_Smoothing Lowess(5)\n0    1880        -0.17      -0.1\n4    1884        -0.28     -0.24\n5    1885        -0.33     -0.26\n6    1886        -0.31     -0.27\n7    1887        -0.36     -0.27\n..    ...          ...       ...\n138  2018         0.85      0.92\n139  2019         0.98      0.93\n140  2020         1.02      0.93\n141  2021         0.84      0.94\n142  2022         0.89       0.9\n\n[137 rows x 3 columns]\n",
          "output_type": "stream"
        }
      ]
    },
    {
      "cell_type": "code",
      "source": "print(df.shape)",
      "metadata": {
        "trusted": true
      },
      "execution_count": 77,
      "outputs": [
        {
          "name": "stdout",
          "text": "(137, 3)\n",
          "output_type": "stream"
        }
      ]
    },
    {
      "cell_type": "code",
      "source": "print(df.min())",
      "metadata": {
        "trusted": true
      },
      "execution_count": 84,
      "outputs": [
        {
          "name": "stdout",
          "text": "Year             1880\nNo_Smoothing    -0.01\nLowess(5)       -0.01\ndtype: object\n",
          "output_type": "stream"
        }
      ]
    },
    {
      "cell_type": "code",
      "source": "",
      "metadata": {},
      "execution_count": null,
      "outputs": []
    }
  ]
}