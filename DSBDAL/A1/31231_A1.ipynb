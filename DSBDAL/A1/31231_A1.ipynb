{
  "metadata": {
    "language_info": {
      "codemirror_mode": {
        "name": "python",
        "version": 3
      },
      "file_extension": ".py",
      "mimetype": "text/x-python",
      "name": "python",
      "nbconvert_exporter": "python",
      "pygments_lexer": "ipython3",
      "version": "3.8"
    },
    "kernelspec": {
      "name": "python",
      "display_name": "Python (Pyodide)",
      "language": "python"
    }
  },
  "nbformat_minor": 4,
  "nbformat": 4,
  "cells": [
    {
      "cell_type": "code",
      "source": "import pandas as pd",
      "metadata": {
        "trusted": true
      },
      "execution_count": 1,
      "outputs": []
    },
    {
      "cell_type": "code",
      "source": "df = pd.read_csv(\"Global_annual_mean_temp.csv\")",
      "metadata": {
        "trusted": true
      },
      "execution_count": 2,
      "outputs": []
    },
    {
      "cell_type": "code",
      "source": "print(df)",
      "metadata": {
        "trusted": true
      },
      "execution_count": 3,
      "outputs": [
        {
          "name": "stdout",
          "text": "     Year  No_Smoothing  Lowess(5)\n0    1880         -0.17      -0.10\n1    1881         -0.09      -0.13\n2    1882         -0.11      -0.17\n3    1883         -0.18      -0.20\n4    1884         -0.28      -0.24\n..    ...           ...        ...\n138  2018          0.85       0.92\n139  2019          0.98       0.93\n140  2020          1.02       0.93\n141  2021          0.84       0.94\n142  2022          0.89       0.90\n\n[143 rows x 3 columns]\n",
          "output_type": "stream"
        }
      ]
    },
    {
      "cell_type": "code",
      "source": "print(df.head())",
      "metadata": {
        "trusted": true
      },
      "execution_count": 4,
      "outputs": [
        {
          "name": "stdout",
          "text": "   Year  No_Smoothing  Lowess(5)\n0  1880         -0.17      -0.10\n1  1881         -0.09      -0.13\n2  1882         -0.11      -0.17\n3  1883         -0.18      -0.20\n4  1884         -0.28      -0.24\n",
          "output_type": "stream"
        }
      ]
    },
    {
      "cell_type": "code",
      "source": "print(df.head(0))",
      "metadata": {
        "trusted": true
      },
      "execution_count": 5,
      "outputs": [
        {
          "name": "stdout",
          "text": "Empty DataFrame\nColumns: [Year, No_Smoothing, Lowess(5)]\nIndex: []\n",
          "output_type": "stream"
        }
      ]
    },
    {
      "cell_type": "code",
      "source": "print(df.head(3))",
      "metadata": {
        "trusted": true
      },
      "execution_count": 6,
      "outputs": [
        {
          "name": "stdout",
          "text": "   Year  No_Smoothing  Lowess(5)\n0  1880         -0.17      -0.10\n1  1881         -0.09      -0.13\n2  1882         -0.11      -0.17\n",
          "output_type": "stream"
        }
      ]
    },
    {
      "cell_type": "code",
      "source": "print(df.head(-3))",
      "metadata": {
        "trusted": true
      },
      "execution_count": 7,
      "outputs": [
        {
          "name": "stdout",
          "text": "     Year  No_Smoothing  Lowess(5)\n0    1880         -0.17      -0.10\n1    1881         -0.09      -0.13\n2    1882         -0.11      -0.17\n3    1883         -0.18      -0.20\n4    1884         -0.28      -0.24\n..    ...           ...        ...\n135  2015          0.89       0.83\n136  2016          1.01       0.87\n137  2017          0.92       0.91\n138  2018          0.85       0.92\n139  2019          0.98       0.93\n\n[140 rows x 3 columns]\n",
          "output_type": "stream"
        }
      ]
    },
    {
      "cell_type": "code",
      "source": "print(df.tail())",
      "metadata": {
        "trusted": true
      },
      "execution_count": 8,
      "outputs": [
        {
          "name": "stdout",
          "text": "     Year  No_Smoothing  Lowess(5)\n138  2018          0.85       0.92\n139  2019          0.98       0.93\n140  2020          1.02       0.93\n141  2021          0.84       0.94\n142  2022          0.89       0.90\n",
          "output_type": "stream"
        }
      ]
    },
    {
      "cell_type": "code",
      "source": "print(df.tail(0))",
      "metadata": {
        "trusted": true
      },
      "execution_count": 9,
      "outputs": [
        {
          "name": "stdout",
          "text": "Empty DataFrame\nColumns: [Year, No_Smoothing, Lowess(5)]\nIndex: []\n",
          "output_type": "stream"
        }
      ]
    },
    {
      "cell_type": "code",
      "source": "print(df.tail(3))",
      "metadata": {
        "trusted": true
      },
      "execution_count": 10,
      "outputs": [
        {
          "name": "stdout",
          "text": "     Year  No_Smoothing  Lowess(5)\n140  2020          1.02       0.93\n141  2021          0.84       0.94\n142  2022          0.89       0.90\n",
          "output_type": "stream"
        }
      ]
    },
    {
      "cell_type": "code",
      "source": "print(df.tail(-3))",
      "metadata": {
        "trusted": true
      },
      "execution_count": 11,
      "outputs": [
        {
          "name": "stdout",
          "text": "     Year  No_Smoothing  Lowess(5)\n3    1883         -0.18      -0.20\n4    1884         -0.28      -0.24\n5    1885         -0.33      -0.26\n6    1886         -0.31      -0.27\n7    1887         -0.36      -0.27\n..    ...           ...        ...\n138  2018          0.85       0.92\n139  2019          0.98       0.93\n140  2020          1.02       0.93\n141  2021          0.84       0.94\n142  2022          0.89       0.90\n\n[140 rows x 3 columns]\n",
          "output_type": "stream"
        }
      ]
    },
    {
      "cell_type": "code",
      "source": "print(df.info())",
      "metadata": {
        "trusted": true
      },
      "execution_count": 12,
      "outputs": [
        {
          "name": "stdout",
          "text": "<class 'pandas.core.frame.DataFrame'>\nRangeIndex: 143 entries, 0 to 142\nData columns (total 3 columns):\n #   Column        Non-Null Count  Dtype  \n---  ------        --------------  -----  \n 0   Year          143 non-null    int64  \n 1   No_Smoothing  143 non-null    float64\n 2   Lowess(5)     143 non-null    float64\ndtypes: float64(2), int64(1)\nmemory usage: 3.4 KB\nNone\n",
          "output_type": "stream"
        }
      ]
    },
    {
      "cell_type": "code",
      "source": "print(df.describe())",
      "metadata": {
        "trusted": true
      },
      "execution_count": 13,
      "outputs": [
        {
          "name": "stdout",
          "text": "             Year  No_Smoothing   Lowess(5)\ncount   143.00000    143.000000  143.000000\nmean   1951.00000      0.059790    0.059930\nstd      41.42463      0.367964    0.356818\nmin    1880.00000     -0.480000   -0.410000\n25%    1915.50000     -0.200000   -0.225000\n50%    1951.00000     -0.060000   -0.040000\n75%    1986.50000      0.265000    0.255000\nmax    2022.00000      1.020000    0.940000\n",
          "output_type": "stream"
        }
      ]
    },
    {
      "cell_type": "code",
      "source": "print(df.isnull())",
      "metadata": {
        "trusted": true
      },
      "execution_count": 14,
      "outputs": [
        {
          "name": "stdout",
          "text": "      Year  No_Smoothing  Lowess(5)\n0    False         False      False\n1    False         False      False\n2    False         False      False\n3    False         False      False\n4    False         False      False\n..     ...           ...        ...\n138  False         False      False\n139  False         False      False\n140  False         False      False\n141  False         False      False\n142  False         False      False\n\n[143 rows x 3 columns]\n",
          "output_type": "stream"
        }
      ]
    },
    {
      "cell_type": "code",
      "source": "print(df.isnull())#changes made in csv",
      "metadata": {
        "trusted": true
      },
      "execution_count": 15,
      "outputs": [
        {
          "name": "stdout",
          "text": "      Year  No_Smoothing  Lowess(5)\n0    False         False      False\n1    False         False      False\n2    False         False      False\n3    False         False      False\n4    False         False      False\n..     ...           ...        ...\n138  False         False      False\n139  False         False      False\n140  False         False      False\n141  False         False      False\n142  False         False      False\n\n[143 rows x 3 columns]\n",
          "output_type": "stream"
        }
      ]
    },
    {
      "cell_type": "code",
      "source": "print(df.isnull().count())#changes made in csv",
      "metadata": {
        "trusted": true
      },
      "execution_count": 20,
      "outputs": [
        {
          "name": "stdout",
          "text": "Year            143\nNo_Smoothing    143\nLowess(5)       143\ndtype: int64\n",
          "output_type": "stream"
        }
      ]
    },
    {
      "cell_type": "code",
      "source": "",
      "metadata": {},
      "execution_count": null,
      "outputs": []
    }
  ]
}